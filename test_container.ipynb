{
 "cells": [
  {
   "cell_type": "code",
   "execution_count": null,
   "metadata": {},
   "outputs": [],
   "source": [
    "import sys\n",
    "import getpass\n",
    "import os\n",
    "\n",
    "if getpass.getuser() == \"appuser\":\n",
    "    # running in a container\n",
    "    env = \"/test-volume\" + \"/\" + os.environ[\"ENV\"]\n",
    "else:\n",
    "    env = \"/Users/chrisd/dev-projects/test-volume\"\n",
    "\n",
    "print(f\"Python version : {sys.version}\")\n",
    "print(f\"Current user : {getpass.getuser()}\")\n",
    "print(f\"Executable: {sys.executable}\")\n",
    "print(f\"Environment: {env}\")\n",
    "\n",
    "print(\"new in container 12\")"
   ]
  }
 ],
 "metadata": {
  "kernelspec": {
   "display_name": "Python 3 (ipykernel)",
   "language": "python",
   "name": "python3"
  },
  "language_info": {
   "codemirror_mode": {
    "name": "ipython",
    "version": 3
   },
   "file_extension": ".py",
   "mimetype": "text/x-python",
   "name": "python",
   "nbconvert_exporter": "python",
   "pygments_lexer": "ipython3",
   "version": "3.11.11"
  }
 },
 "nbformat": 4,
 "nbformat_minor": 2
}
