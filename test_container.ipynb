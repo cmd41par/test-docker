{
 "cells": [
  {
   "cell_type": "code",
   "execution_count": 2,
   "metadata": {},
   "outputs": [
    {
     "name": "stdout",
     "output_type": "stream",
     "text": [
      "Python version : 3.11.11 (main, Feb  4 2025, 13:44:55) [GCC 12.2.0]\n",
      "Current user : appuser\n",
      "Executable: /usr/local/bin/python3.11\n",
      "Environment: /test-volume/prod\n",
      "new in container 12\n"
     ]
    }
   ],
   "source": [
    "import sys\n",
    "import getpass\n",
    "import os\n",
    "\n",
    "if getpass.getuser() == \"appuser\":\n",
    "    # running in a container\n",
    "    env = \"/test-volume\" + \"/\" + os.environ[\"ENV\"]\n",
    "else:\n",
    "    env = \"/Users/chrisd/dev-projects/test-volume\"\n",
    "\n",
    "print(f\"Python version : {sys.version}\")\n",
    "print(f\"Current user : {getpass.getuser()}\")\n",
    "print(f\"Executable: {sys.executable}\")\n",
    "print(f\"Environment: {env}\")\n",
    "\n",
    "print(\"new in container 12\")"
   ]
  }
 ],
 "metadata": {
  "kernelspec": {
   "display_name": "Python 3 (ipykernel)",
   "language": "python",
   "name": "python3"
  }
 },
 "nbformat": 4,
 "nbformat_minor": 2
}
